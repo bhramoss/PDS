{
 "cells": [
  {
   "cell_type": "code",
   "execution_count": 8,
   "metadata": {},
   "outputs": [
    {
     "data": {
      "text/html": [
       "<script>requirejs.config({paths: { 'plotly': ['https://cdn.plot.ly/plotly-latest.min']},});if(!window.Plotly) {{require(['plotly'],function(plotly) {window.Plotly=plotly;});}}</script>"
      ],
      "text/vnd.plotly.v1+html": [
       "<script>requirejs.config({paths: { 'plotly': ['https://cdn.plot.ly/plotly-latest.min']},});if(!window.Plotly) {{require(['plotly'],function(plotly) {window.Plotly=plotly;});}}</script>"
      ]
     },
     "metadata": {},
     "output_type": "display_data"
    }
   ],
   "source": [
    "import plotly\n",
    "plotly.__version__\n",
    "from plotly import __version__\n",
    "from plotly.offline import download_plotlyjs, init_notebook_mode, plot, iplot\n",
    "init_notebook_mode(connected=True)\n",
    "\n",
    "\n",
    "import plotly.plotly as py\n",
    "from plotly import graph_objs as go\n",
    "    \n",
    "\n",
    "def plotly_plot(colors, phases, values, paper_bgcolor='rgba(240,240,240,1)', plot_bgcolor='rgba(240,240,240,1'):\n",
    "\n",
    "    \"\"\" Plots funnel using plotly\n",
    "    \n",
    "    Args:\n",
    "        colors: rgb specification of the colors of the funnel segments\n",
    "        phases (list): List of phases\n",
    "        values (list): values for each phase\n",
    "                        Must have the same size as phases\n",
    "        paper_bgcolor: background color of the entire canvas\n",
    "        plot_bgcolor: background color of the plot\n",
    "    \"\"\"\n",
    "\n",
    "\n",
    "    # Data we want to plot. \n",
    "    print(paper_bgcolor)\n",
    "    number_phase = len(phases)\n",
    "    plot_width = 400\n",
    "\n",
    "    # height of a section and difference between sections \n",
    "    section_h = 100\n",
    "    section_d = 5\n",
    "\n",
    "    # multiplication factor to calculate the width of other sections\n",
    "    unit_width = plot_width / max(values)\n",
    "\n",
    "    # width of each funnel section relative to the plot width\n",
    "    phase_w = [int(value * unit_width) for value in values]\n",
    "\n",
    "    # plot height based on the number of sections and the gap in between them\n",
    "    height = section_h * number_phase + section_d * (number_phase - 1)\n",
    "\n",
    "    # list containing all the plot shapes\n",
    "    shapes = []\n",
    "\n",
    "    # list containing the Y-axis location for each section's name and value text\n",
    "    label_y = []\n",
    "\n",
    "    for i in range(number_phase):\n",
    "            if (i == number_phase-1):\n",
    "                    points = [phase_w[i] / 2, height, phase_w[i] / 2, height - section_h]\n",
    "            else:\n",
    "                    points = [phase_w[i] / 2, height, phase_w[i+1] / 2, height - section_h]\n",
    "\n",
    "            path = 'M {0} {1} L {2} {3} L -{2} {3} L -{0} {1} Z'.format(*points)\n",
    "\n",
    "            shape = {\n",
    "                    'type': 'path',\n",
    "                    'path': path,\n",
    "                    'fillcolor': colors[i],\n",
    "                    'line': {\n",
    "                        'width': 1,\n",
    "                        'color': colors[i]\n",
    "                    }\n",
    "            }\n",
    "            shapes.append(shape)\n",
    "        \n",
    "            # Y-axis location for this section's details (text)\n",
    "            label_y.append(height - (section_h / 2))\n",
    "\n",
    "            height = height - (section_h + section_d)\n",
    "\n",
    "    # For phase names\n",
    "    label_trace = go.Scatter(\n",
    "        x=[-350]*number_phase,\n",
    "        y=label_y,\n",
    "        mode='text',\n",
    "        text=phases,\n",
    "        textfont=dict(\n",
    "            color='rgb(230, 190, 255)',\n",
    "            size=15\n",
    "        )\n",
    "    )\n",
    " \n",
    "    # For phase values\n",
    "    value_trace = go.Scatter(\n",
    "        x=[350]*number_phase,\n",
    "        y=label_y,\n",
    "        mode='text',\n",
    "        text=values,\n",
    "        textfont=dict(\n",
    "            color='rgb(230, 190, 255)',\n",
    "            size=15\n",
    "        )\n",
    "    )\n",
    "\n",
    "    data = [label_trace, value_trace]\n",
    " \n",
    "    layout = go.Layout(\n",
    "        title=\"<b>Funnel Chart</b>\",\n",
    "        titlefont=dict(\n",
    "            size=20,\n",
    "            color='rgb(230, 190, 255)'\n",
    "        ),\n",
    "        shapes=shapes,\n",
    "        height=560,\n",
    "        width=800,\n",
    "        showlegend=False,\n",
    "        paper_bgcolor=paper_bgcolor,\n",
    "        plot_bgcolor=plot_bgcolor,\n",
    "        xaxis=dict(\n",
    "            showticklabels=False,\n",
    "            zeroline=False,\n",
    "        ),\n",
    "        yaxis=dict(\n",
    "            showticklabels=False,\n",
    "            zeroline=False\n",
    "        )\n",
    "    )\n",
    " \n",
    "    fig = go.Figure(data=data, layout=layout)\n",
    "    plotly.offline.iplot(fig)"
   ]
  },
  {
   "cell_type": "code",
   "execution_count": 9,
   "metadata": {},
   "outputs": [
    {
     "name": "stdout",
     "output_type": "stream",
     "text": [
      "rgba(240,240,240,1)\n"
     ]
    },
    {
     "data": {
      "application/vnd.plotly.v1+json": {
       "data": [
        {
         "mode": "text",
         "text": [
          "Visit",
          "Sign-up",
          "Selection",
          "Purchase",
          "Review"
         ],
         "textfont": {
          "color": "rgb(230, 190, 255)",
          "size": 15
         },
         "type": "scatter",
         "x": [
          -350,
          -350,
          -350,
          -350,
          -350
         ],
         "y": [
          470,
          365,
          260,
          155,
          50
         ]
        },
        {
         "mode": "text",
         "text": [
          13873,
          10553,
          4443,
          2703,
          708
         ],
         "textfont": {
          "color": "rgb(230, 190, 255)",
          "size": 15
         },
         "type": "scatter",
         "x": [
          350,
          350,
          350,
          350,
          350
         ],
         "y": [
          470,
          365,
          260,
          155,
          50
         ]
        }
       ],
       "layout": {
        "height": 560,
        "paper_bgcolor": "rgba(240,240,240,1)",
        "plot_bgcolor": "rgba(240,240,240,1",
        "shapes": [
         {
          "fillcolor": "rgb(17,31,77)",
          "line": {
           "color": "rgb(17,31,77)",
           "width": 1
          },
          "path": "M 200.0 520 L 152.0 420 L -152.0 420 L -200.0 520 Z",
          "type": "path"
         },
         {
          "fillcolor": "rgb(242,244,247)",
          "line": {
           "color": "rgb(242,244,247)",
           "width": 1
          },
          "path": "M 152.0 415 L 64.0 315 L -64.0 315 L -152.0 415 Z",
          "type": "path"
         },
         {
          "fillcolor": "rgb(228,58,25)",
          "line": {
           "color": "rgb(228,58,25)",
           "width": 1
          },
          "path": "M 64.0 310 L 38.5 210 L -38.5 210 L -64.0 310 Z",
          "type": "path"
         },
         {
          "fillcolor": "rgb(50,50,50)",
          "line": {
           "color": "rgb(50,50,50)",
           "width": 1
          },
          "path": "M 38.5 205 L 10.0 105 L -10.0 105 L -38.5 205 Z",
          "type": "path"
         },
         {
          "fillcolor": "rgb(2,2,5)",
          "line": {
           "color": "rgb(2,2,5)",
           "width": 1
          },
          "path": "M 10.0 100 L 10.0 0 L -10.0 0 L -10.0 100 Z",
          "type": "path"
         }
        ],
        "showlegend": false,
        "title": "<b>Funnel Chart</b>",
        "titlefont": {
         "color": "rgb(230, 190, 255)",
         "size": 20
        },
        "width": 800,
        "xaxis": {
         "showticklabels": false,
         "zeroline": false
        },
        "yaxis": {
         "showticklabels": false,
         "zeroline": false
        }
       }
      },
      "text/html": [
       "<div id=\"0f7154e3-ed1f-43d5-921c-885c320645bf\" style=\"height: 560px; width: 800px;\" class=\"plotly-graph-div\"></div><script type=\"text/javascript\">require([\"plotly\"], function(Plotly) { window.PLOTLYENV=window.PLOTLYENV || {};window.PLOTLYENV.BASE_URL=\"https://plot.ly\";Plotly.newPlot(\"0f7154e3-ed1f-43d5-921c-885c320645bf\", [{\"type\": \"scatter\", \"x\": [-350, -350, -350, -350, -350], \"y\": [470.0, 365.0, 260.0, 155.0, 50.0], \"mode\": \"text\", \"text\": [\"Visit\", \"Sign-up\", \"Selection\", \"Purchase\", \"Review\"], \"textfont\": {\"color\": \"rgb(230, 190, 255)\", \"size\": 15}}, {\"type\": \"scatter\", \"x\": [350, 350, 350, 350, 350], \"y\": [470.0, 365.0, 260.0, 155.0, 50.0], \"mode\": \"text\", \"text\": [13873, 10553, 4443, 2703, 708], \"textfont\": {\"color\": \"rgb(230, 190, 255)\", \"size\": 15}}], {\"title\": \"<b>Funnel Chart</b>\", \"titlefont\": {\"size\": 20, \"color\": \"rgb(230, 190, 255)\"}, \"shapes\": [{\"type\": \"path\", \"path\": \"M 200.0 520 L 152.0 420 L -152.0 420 L -200.0 520 Z\", \"fillcolor\": \"rgb(17,31,77)\", \"line\": {\"width\": 1, \"color\": \"rgb(17,31,77)\"}}, {\"type\": \"path\", \"path\": \"M 152.0 415 L 64.0 315 L -64.0 315 L -152.0 415 Z\", \"fillcolor\": \"rgb(242,244,247)\", \"line\": {\"width\": 1, \"color\": \"rgb(242,244,247)\"}}, {\"type\": \"path\", \"path\": \"M 64.0 310 L 38.5 210 L -38.5 210 L -64.0 310 Z\", \"fillcolor\": \"rgb(228,58,25)\", \"line\": {\"width\": 1, \"color\": \"rgb(228,58,25)\"}}, {\"type\": \"path\", \"path\": \"M 38.5 205 L 10.0 105 L -10.0 105 L -38.5 205 Z\", \"fillcolor\": \"rgb(50,50,50)\", \"line\": {\"width\": 1, \"color\": \"rgb(50,50,50)\"}}, {\"type\": \"path\", \"path\": \"M 10.0 100 L 10.0 0 L -10.0 0 L -10.0 100 Z\", \"fillcolor\": \"rgb(2,2,5)\", \"line\": {\"width\": 1, \"color\": \"rgb(2,2,5)\"}}], \"height\": 560, \"width\": 800, \"showlegend\": false, \"paper_bgcolor\": \"rgba(240,240,240,1)\", \"plot_bgcolor\": \"rgba(240,240,240,1\", \"xaxis\": {\"showticklabels\": false, \"zeroline\": false}, \"yaxis\": {\"showticklabels\": false, \"zeroline\": false}}, {\"showLink\": true, \"linkText\": \"Export to plot.ly\"})});</script>"
      ],
      "text/vnd.plotly.v1+html": [
       "<div id=\"0f7154e3-ed1f-43d5-921c-885c320645bf\" style=\"height: 560px; width: 800px;\" class=\"plotly-graph-div\"></div><script type=\"text/javascript\">require([\"plotly\"], function(Plotly) { window.PLOTLYENV=window.PLOTLYENV || {};window.PLOTLYENV.BASE_URL=\"https://plot.ly\";Plotly.newPlot(\"0f7154e3-ed1f-43d5-921c-885c320645bf\", [{\"type\": \"scatter\", \"x\": [-350, -350, -350, -350, -350], \"y\": [470.0, 365.0, 260.0, 155.0, 50.0], \"mode\": \"text\", \"text\": [\"Visit\", \"Sign-up\", \"Selection\", \"Purchase\", \"Review\"], \"textfont\": {\"color\": \"rgb(230, 190, 255)\", \"size\": 15}}, {\"type\": \"scatter\", \"x\": [350, 350, 350, 350, 350], \"y\": [470.0, 365.0, 260.0, 155.0, 50.0], \"mode\": \"text\", \"text\": [13873, 10553, 4443, 2703, 708], \"textfont\": {\"color\": \"rgb(230, 190, 255)\", \"size\": 15}}], {\"title\": \"<b>Funnel Chart</b>\", \"titlefont\": {\"size\": 20, \"color\": \"rgb(230, 190, 255)\"}, \"shapes\": [{\"type\": \"path\", \"path\": \"M 200.0 520 L 152.0 420 L -152.0 420 L -200.0 520 Z\", \"fillcolor\": \"rgb(17,31,77)\", \"line\": {\"width\": 1, \"color\": \"rgb(17,31,77)\"}}, {\"type\": \"path\", \"path\": \"M 152.0 415 L 64.0 315 L -64.0 315 L -152.0 415 Z\", \"fillcolor\": \"rgb(242,244,247)\", \"line\": {\"width\": 1, \"color\": \"rgb(242,244,247)\"}}, {\"type\": \"path\", \"path\": \"M 64.0 310 L 38.5 210 L -38.5 210 L -64.0 310 Z\", \"fillcolor\": \"rgb(228,58,25)\", \"line\": {\"width\": 1, \"color\": \"rgb(228,58,25)\"}}, {\"type\": \"path\", \"path\": \"M 38.5 205 L 10.0 105 L -10.0 105 L -38.5 205 Z\", \"fillcolor\": \"rgb(50,50,50)\", \"line\": {\"width\": 1, \"color\": \"rgb(50,50,50)\"}}, {\"type\": \"path\", \"path\": \"M 10.0 100 L 10.0 0 L -10.0 0 L -10.0 100 Z\", \"fillcolor\": \"rgb(2,2,5)\", \"line\": {\"width\": 1, \"color\": \"rgb(2,2,5)\"}}], \"height\": 560, \"width\": 800, \"showlegend\": false, \"paper_bgcolor\": \"rgba(240,240,240,1)\", \"plot_bgcolor\": \"rgba(240,240,240,1\", \"xaxis\": {\"showticklabels\": false, \"zeroline\": false}, \"yaxis\": {\"showticklabels\": false, \"zeroline\": false}}, {\"showLink\": true, \"linkText\": \"Export to plot.ly\"})});</script>"
      ]
     },
     "metadata": {},
     "output_type": "display_data"
    },
    {
     "name": "stdout",
     "output_type": "stream",
     "text": [
      "rgba(240,240,240,1)\n"
     ]
    },
    {
     "data": {
      "application/vnd.plotly.v1+json": {
       "data": [
        {
         "mode": "text",
         "text": [
          "Visit",
          "Sign-up",
          "Selection",
          "Purchase",
          "Review"
         ],
         "textfont": {
          "color": "rgb(230, 190, 255)",
          "size": 15
         },
         "type": "scatter",
         "x": [
          -350,
          -350,
          -350,
          -350,
          -350
         ],
         "y": [
          470,
          365,
          260,
          155,
          50
         ]
        },
        {
         "mode": "text",
         "text": [
          13873,
          10553,
          4443,
          2703,
          708
         ],
         "textfont": {
          "color": "rgb(230, 190, 255)",
          "size": 15
         },
         "type": "scatter",
         "x": [
          350,
          350,
          350,
          350,
          350
         ],
         "y": [
          470,
          365,
          260,
          155,
          50
         ]
        }
       ],
       "layout": {
        "height": 560,
        "paper_bgcolor": "rgba(240,240,240,1)",
        "plot_bgcolor": "rgba(240,240,240,1",
        "shapes": [
         {
          "fillcolor": "rgb(228,237,219)",
          "line": {
           "color": "rgb(228,237,219)",
           "width": 1
          },
          "path": "M 200.0 520 L 152.0 420 L -152.0 420 L -200.0 520 Z",
          "type": "path"
         },
         {
          "fillcolor": "rgb(48,118,114)",
          "line": {
           "color": "rgb(48,118,114)",
           "width": 1
          },
          "path": "M 152.0 415 L 64.0 315 L -64.0 315 L -152.0 415 Z",
          "type": "path"
         },
         {
          "fillcolor": "rgb(20,77,83)",
          "line": {
           "color": "rgb(20,77,83)",
           "width": 1
          },
          "path": "M 64.0 310 L 38.5 210 L -38.5 210 L -64.0 310 Z",
          "type": "path"
         },
         {
          "fillcolor": "rgb(26,60,64)",
          "line": {
           "color": "rgb(26,60,64)",
           "width": 1
          },
          "path": "M 38.5 205 L 10.0 105 L -10.0 105 L -38.5 205 Z",
          "type": "path"
         },
         {
          "fillcolor": "rgb(46,56,63)",
          "line": {
           "color": "rgb(46,56,63)",
           "width": 1
          },
          "path": "M 10.0 100 L 10.0 0 L -10.0 0 L -10.0 100 Z",
          "type": "path"
         }
        ],
        "showlegend": false,
        "title": "<b>Funnel Chart</b>",
        "titlefont": {
         "color": "rgb(230, 190, 255)",
         "size": 20
        },
        "width": 800,
        "xaxis": {
         "showticklabels": false,
         "zeroline": false
        },
        "yaxis": {
         "showticklabels": false,
         "zeroline": false
        }
       }
      },
      "text/html": [
       "<div id=\"99dc2a49-0a21-43ed-b1ff-3f621a02b2c9\" style=\"height: 560px; width: 800px;\" class=\"plotly-graph-div\"></div><script type=\"text/javascript\">require([\"plotly\"], function(Plotly) { window.PLOTLYENV=window.PLOTLYENV || {};window.PLOTLYENV.BASE_URL=\"https://plot.ly\";Plotly.newPlot(\"99dc2a49-0a21-43ed-b1ff-3f621a02b2c9\", [{\"type\": \"scatter\", \"x\": [-350, -350, -350, -350, -350], \"y\": [470.0, 365.0, 260.0, 155.0, 50.0], \"mode\": \"text\", \"text\": [\"Visit\", \"Sign-up\", \"Selection\", \"Purchase\", \"Review\"], \"textfont\": {\"color\": \"rgb(230, 190, 255)\", \"size\": 15}}, {\"type\": \"scatter\", \"x\": [350, 350, 350, 350, 350], \"y\": [470.0, 365.0, 260.0, 155.0, 50.0], \"mode\": \"text\", \"text\": [13873, 10553, 4443, 2703, 708], \"textfont\": {\"color\": \"rgb(230, 190, 255)\", \"size\": 15}}], {\"title\": \"<b>Funnel Chart</b>\", \"titlefont\": {\"size\": 20, \"color\": \"rgb(230, 190, 255)\"}, \"shapes\": [{\"type\": \"path\", \"path\": \"M 200.0 520 L 152.0 420 L -152.0 420 L -200.0 520 Z\", \"fillcolor\": \"rgb(228,237,219)\", \"line\": {\"width\": 1, \"color\": \"rgb(228,237,219)\"}}, {\"type\": \"path\", \"path\": \"M 152.0 415 L 64.0 315 L -64.0 315 L -152.0 415 Z\", \"fillcolor\": \"rgb(48,118,114)\", \"line\": {\"width\": 1, \"color\": \"rgb(48,118,114)\"}}, {\"type\": \"path\", \"path\": \"M 64.0 310 L 38.5 210 L -38.5 210 L -64.0 310 Z\", \"fillcolor\": \"rgb(20,77,83)\", \"line\": {\"width\": 1, \"color\": \"rgb(20,77,83)\"}}, {\"type\": \"path\", \"path\": \"M 38.5 205 L 10.0 105 L -10.0 105 L -38.5 205 Z\", \"fillcolor\": \"rgb(26,60,64)\", \"line\": {\"width\": 1, \"color\": \"rgb(26,60,64)\"}}, {\"type\": \"path\", \"path\": \"M 10.0 100 L 10.0 0 L -10.0 0 L -10.0 100 Z\", \"fillcolor\": \"rgb(46,56,63)\", \"line\": {\"width\": 1, \"color\": \"rgb(46,56,63)\"}}], \"height\": 560, \"width\": 800, \"showlegend\": false, \"paper_bgcolor\": \"rgba(240,240,240,1)\", \"plot_bgcolor\": \"rgba(240,240,240,1\", \"xaxis\": {\"showticklabels\": false, \"zeroline\": false}, \"yaxis\": {\"showticklabels\": false, \"zeroline\": false}}, {\"showLink\": true, \"linkText\": \"Export to plot.ly\"})});</script>"
      ],
      "text/vnd.plotly.v1+html": [
       "<div id=\"99dc2a49-0a21-43ed-b1ff-3f621a02b2c9\" style=\"height: 560px; width: 800px;\" class=\"plotly-graph-div\"></div><script type=\"text/javascript\">require([\"plotly\"], function(Plotly) { window.PLOTLYENV=window.PLOTLYENV || {};window.PLOTLYENV.BASE_URL=\"https://plot.ly\";Plotly.newPlot(\"99dc2a49-0a21-43ed-b1ff-3f621a02b2c9\", [{\"type\": \"scatter\", \"x\": [-350, -350, -350, -350, -350], \"y\": [470.0, 365.0, 260.0, 155.0, 50.0], \"mode\": \"text\", \"text\": [\"Visit\", \"Sign-up\", \"Selection\", \"Purchase\", \"Review\"], \"textfont\": {\"color\": \"rgb(230, 190, 255)\", \"size\": 15}}, {\"type\": \"scatter\", \"x\": [350, 350, 350, 350, 350], \"y\": [470.0, 365.0, 260.0, 155.0, 50.0], \"mode\": \"text\", \"text\": [13873, 10553, 4443, 2703, 708], \"textfont\": {\"color\": \"rgb(230, 190, 255)\", \"size\": 15}}], {\"title\": \"<b>Funnel Chart</b>\", \"titlefont\": {\"size\": 20, \"color\": \"rgb(230, 190, 255)\"}, \"shapes\": [{\"type\": \"path\", \"path\": \"M 200.0 520 L 152.0 420 L -152.0 420 L -200.0 520 Z\", \"fillcolor\": \"rgb(228,237,219)\", \"line\": {\"width\": 1, \"color\": \"rgb(228,237,219)\"}}, {\"type\": \"path\", \"path\": \"M 152.0 415 L 64.0 315 L -64.0 315 L -152.0 415 Z\", \"fillcolor\": \"rgb(48,118,114)\", \"line\": {\"width\": 1, \"color\": \"rgb(48,118,114)\"}}, {\"type\": \"path\", \"path\": \"M 64.0 310 L 38.5 210 L -38.5 210 L -64.0 310 Z\", \"fillcolor\": \"rgb(20,77,83)\", \"line\": {\"width\": 1, \"color\": \"rgb(20,77,83)\"}}, {\"type\": \"path\", \"path\": \"M 38.5 205 L 10.0 105 L -10.0 105 L -38.5 205 Z\", \"fillcolor\": \"rgb(26,60,64)\", \"line\": {\"width\": 1, \"color\": \"rgb(26,60,64)\"}}, {\"type\": \"path\", \"path\": \"M 10.0 100 L 10.0 0 L -10.0 0 L -10.0 100 Z\", \"fillcolor\": \"rgb(46,56,63)\", \"line\": {\"width\": 1, \"color\": \"rgb(46,56,63)\"}}], \"height\": 560, \"width\": 800, \"showlegend\": false, \"paper_bgcolor\": \"rgba(240,240,240,1)\", \"plot_bgcolor\": \"rgba(240,240,240,1\", \"xaxis\": {\"showticklabels\": false, \"zeroline\": false}, \"yaxis\": {\"showticklabels\": false, \"zeroline\": false}}, {\"showLink\": true, \"linkText\": \"Export to plot.ly\"})});</script>"
      ]
     },
     "metadata": {},
     "output_type": "display_data"
    }
   ],
   "source": [
    "phases = ['Visit', 'Sign-up', 'Selection', 'Purchase', 'Review']\n",
    "values = [13873, 10553, 4443, 2703, 708]\n",
    "# color of individual funnels\n",
    "colors1 = ['rgb(17,31,77)', 'rgb(242,244,247)', 'rgb(228,58,25)', 'rgb(50,50,50)', 'rgb(2,2,5)']\n",
    "# colors2 = ['rgb(50,50,50)', 'rgb(133,89,165)', 'rgb(109,177,147)', 'rgb(244,229,194)', 'rgb(171,237,216)']\n",
    "colors3 = ['rgb(228,237,219)', 'rgb(48,118,114)', 'rgb(20,77,83)', 'rgb(26,60,64)', 'rgb(46,56,63)']\n",
    "plotly_plot(colors1, phases, values)\n",
    "# plotly_plot(colors2)\n",
    "plotly_plot(colors3, phases, values)\n",
    "\n"
   ]
  },
  {
   "cell_type": "code",
   "execution_count": null,
   "metadata": {
    "collapsed": true
   },
   "outputs": [],
   "source": []
  }
 ],
 "metadata": {
  "kernelspec": {
   "display_name": "Python 3",
   "language": "python",
   "name": "python3"
  },
  "language_info": {
   "codemirror_mode": {
    "name": "ipython",
    "version": 3
   },
   "file_extension": ".py",
   "mimetype": "text/x-python",
   "name": "python",
   "nbconvert_exporter": "python",
   "pygments_lexer": "ipython3",
   "version": "3.6.3"
  }
 },
 "nbformat": 4,
 "nbformat_minor": 2
}
