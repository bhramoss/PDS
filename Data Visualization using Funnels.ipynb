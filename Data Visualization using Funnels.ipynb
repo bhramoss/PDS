{
 "cells": [
  {
   "cell_type": "markdown",
   "metadata": {},
   "source": [
    "# Data Visualization using Funnels\n",
    "\n",
    "## By Shiva\n",
    "\n",
    "\n",
    "\n",
    "\n",
    "When an organization has a large number of moving parts which leads to an end result, analysing the effects of the\n",
    "individual moving parts on the end result becomes complicated. The end result may be a single goal like total sales or it can be a set of sequence of events.\n",
    "\n",
    "Analysing these series of steps that eventually lead to a predefined goal is called funnel analysis. To give a more concrete example suppose there is a big ecommerce firm. The end goal for any organization would be maximizing the profits which is directly related to the amount of \"purchases\" made on the website. The typical states/phases in purchasing something would be roughly 1. Visiting 2. Signing up 3. Searching/Selecting 4. Purchasing. These phases can be thought of as parts of a funnel. As one goes down a funnel, it typically becomes narrower. This is the origin of the word funnel. All individuals will enter on the top but   Funnel analysis is one way to analyse how many people are satisfying the end goal of an organization (purchasing something in this case). In other words, we say a user has \"converted\" if he passes through all the states/phases of the funnel.\n",
    "\n",
    "The origin of the term funnel analysis comes from the nature of a funnel where individuals will enter the funnel, yet only a small number of them will perform the intended goals.\n",
    "\n"
   ]
  },
  {
   "cell_type": "markdown",
   "metadata": {},
   "source": [
    " <img src='example_image_1.png' width=\"400px\" style=\"display: block;float: left\"/>"
   ]
  },
  {
   "cell_type": "code",
   "execution_count": null,
   "metadata": {
    "collapsed": true
   },
   "outputs": [],
   "source": []
  }
 ],
 "metadata": {
  "kernelspec": {
   "display_name": "Python 3",
   "language": "python",
   "name": "python3"
  },
  "language_info": {
   "codemirror_mode": {
    "name": "ipython",
    "version": 3
   },
   "file_extension": ".py",
   "mimetype": "text/x-python",
   "name": "python",
   "nbconvert_exporter": "python",
   "pygments_lexer": "ipython3",
   "version": "3.6.3"
  }
 },
 "nbformat": 4,
 "nbformat_minor": 2
}
